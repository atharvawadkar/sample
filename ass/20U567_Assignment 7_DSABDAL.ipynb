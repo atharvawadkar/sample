{
 "cells": [
  {
   "cell_type": "markdown",
   "id": "9cbacd9f",
   "metadata": {},
   "source": [
    "## Name- Aashish Kumar Singh\n",
    "## Roll.  - 20U567\n",
    "## Div.   - Intel (5)\n",
    "## Batch-T 19"
   ]
  },
  {
   "cell_type": "code",
   "execution_count": 1,
   "id": "99cd2d5b",
   "metadata": {},
   "outputs": [
    {
     "name": "stdout",
     "output_type": "stream",
     "text": [
      "Requirement already satisfied: nltk in /Users/aashish/Documents/Education/anaconda3/lib/python3.9/site-packages (3.6.5)\n",
      "Requirement already satisfied: click in /Users/aashish/Documents/Education/anaconda3/lib/python3.9/site-packages (from nltk) (8.0.3)\n",
      "Requirement already satisfied: joblib in /Users/aashish/Documents/Education/anaconda3/lib/python3.9/site-packages (from nltk) (1.1.0)\n",
      "Requirement already satisfied: regex>=2021.8.3 in /Users/aashish/Documents/Education/anaconda3/lib/python3.9/site-packages (from nltk) (2021.8.3)\n",
      "Requirement already satisfied: tqdm in /Users/aashish/Documents/Education/anaconda3/lib/python3.9/site-packages (from nltk) (4.62.3)\n",
      "Note: you may need to restart the kernel to use updated packages.\n"
     ]
    }
   ],
   "source": [
    "pip install nltk"
   ]
  },
  {
   "cell_type": "code",
   "execution_count": 2,
   "id": "ba698529",
   "metadata": {},
   "outputs": [
    {
     "name": "stderr",
     "output_type": "stream",
     "text": [
      "[nltk_data] Downloading package punkt to /Users/aashish/nltk_data...\n",
      "[nltk_data]   Package punkt is already up-to-date!\n"
     ]
    },
    {
     "data": {
      "text/plain": [
       "True"
      ]
     },
     "execution_count": 2,
     "metadata": {},
     "output_type": "execute_result"
    }
   ],
   "source": [
    "import nltk\n",
    "nltk.download('punkt')"
   ]
  },
  {
   "cell_type": "code",
   "execution_count": 3,
   "id": "ceab7dd6",
   "metadata": {},
   "outputs": [
    {
     "name": "stdout",
     "output_type": "stream",
     "text": [
      "['It', 'is', 'originated', 'from', '.', 'the', 'idea', 'that', 'there', 'are', 'readers', 'who', 'prefer', 'learning', 'new', 'skills', 'from', 'the', 'comforts', 'of', 'their', 'drawing', 'rooms']\n"
     ]
    }
   ],
   "source": [
    "word_data=\"It is originated from. the idea that there are readers who prefer learning new skills from the comforts of their drawing rooms\"\n",
    "nltk_tokens=nltk.word_tokenize(word_data)\n",
    "print(nltk_tokens)"
   ]
  },
  {
   "cell_type": "code",
   "execution_count": 4,
   "id": "4d58a587",
   "metadata": {},
   "outputs": [
    {
     "data": {
      "text/plain": [
       "['It',\n",
       " 'is',\n",
       " 'originated',\n",
       " 'from.',\n",
       " 'the',\n",
       " 'idea',\n",
       " 'that',\n",
       " 'there',\n",
       " 'are',\n",
       " 'readers',\n",
       " 'who',\n",
       " 'prefer',\n",
       " 'learning',\n",
       " 'new',\n",
       " 'skills',\n",
       " 'from',\n",
       " 'the',\n",
       " 'comforts',\n",
       " 'of',\n",
       " 'their',\n",
       " 'drawing',\n",
       " 'rooms']"
      ]
     },
     "execution_count": 4,
     "metadata": {},
     "output_type": "execute_result"
    }
   ],
   "source": [
    "word_data.split()"
   ]
  },
  {
   "cell_type": "code",
   "execution_count": 5,
   "id": "af832fbc",
   "metadata": {},
   "outputs": [],
   "source": [
    "from nltk import pos_tag"
   ]
  },
  {
   "cell_type": "code",
   "execution_count": 6,
   "id": "a7db4c4c",
   "metadata": {},
   "outputs": [],
   "source": [
    "from nltk import RegexpParser"
   ]
  },
  {
   "cell_type": "code",
   "execution_count": 7,
   "id": "13444ddc",
   "metadata": {},
   "outputs": [],
   "source": [
    "text=\"learn datascience from SKNCOE and make study simple\".split()"
   ]
  },
  {
   "cell_type": "code",
   "execution_count": 8,
   "id": "524db0cf",
   "metadata": {},
   "outputs": [
    {
     "name": "stdout",
     "output_type": "stream",
     "text": [
      "After Split:  ['learn', 'datascience', 'from', 'SKNCOE', 'and', 'make', 'study', 'simple']\n"
     ]
    }
   ],
   "source": [
    "print(\"After Split: \",text)"
   ]
  },
  {
   "cell_type": "code",
   "execution_count": 9,
   "id": "8e5f5ec8",
   "metadata": {},
   "outputs": [
    {
     "name": "stderr",
     "output_type": "stream",
     "text": [
      "[nltk_data] Downloading package averaged_perceptron_tagger to\n",
      "[nltk_data]     /Users/aashish/nltk_data...\n",
      "[nltk_data]   Package averaged_perceptron_tagger is already up-to-\n",
      "[nltk_data]       date!\n"
     ]
    },
    {
     "data": {
      "text/plain": [
       "True"
      ]
     },
     "execution_count": 9,
     "metadata": {},
     "output_type": "execute_result"
    }
   ],
   "source": [
    "import nltk\n",
    "nltk.download('averaged_perceptron_tagger')"
   ]
  },
  {
   "cell_type": "code",
   "execution_count": 10,
   "id": "e2ade701",
   "metadata": {},
   "outputs": [],
   "source": [
    "tokens_tag=pos_tag(text)"
   ]
  },
  {
   "cell_type": "code",
   "execution_count": 11,
   "id": "2cd31e65",
   "metadata": {},
   "outputs": [
    {
     "name": "stdout",
     "output_type": "stream",
     "text": [
      "After Token:  [('learn', 'JJ'), ('datascience', 'NN'), ('from', 'IN'), ('SKNCOE', 'NNP'), ('and', 'CC'), ('make', 'VB'), ('study', 'NN'), ('simple', 'NN')]\n"
     ]
    }
   ],
   "source": [
    "print(\"After Token: \",tokens_tag)"
   ]
  },
  {
   "cell_type": "code",
   "execution_count": 12,
   "id": "3d36f053",
   "metadata": {},
   "outputs": [],
   "source": [
    "from nltk.corpus import stopwords"
   ]
  },
  {
   "cell_type": "code",
   "execution_count": 13,
   "id": "c57dfcc6",
   "metadata": {},
   "outputs": [
    {
     "name": "stdout",
     "output_type": "stream",
     "text": [
      "['i', 'me', 'my', 'myself', 'we', 'our', 'ours', 'ourselves', 'you', \"you're\", \"you've\", \"you'll\", \"you'd\", 'your', 'yours', 'yourself', 'yourselves', 'he', 'him', 'his', 'himself', 'she', \"she's\", 'her', 'hers', 'herself', 'it', \"it's\", 'its', 'itself', 'they', 'them', 'their', 'theirs', 'themselves', 'what', 'which', 'who', 'whom', 'this', 'that', \"that'll\", 'these', 'those', 'am', 'is', 'are', 'was', 'were', 'be', 'been', 'being', 'have', 'has', 'had', 'having', 'do', 'does', 'did', 'doing', 'a', 'an', 'the', 'and', 'but', 'if', 'or', 'because', 'as', 'until', 'while', 'of', 'at', 'by', 'for', 'with', 'about', 'against', 'between', 'into', 'through', 'during', 'before', 'after', 'above', 'below', 'to', 'from', 'up', 'down', 'in', 'out', 'on', 'off', 'over', 'under', 'again', 'further', 'then', 'once', 'here', 'there', 'when', 'where', 'why', 'how', 'all', 'any', 'both', 'each', 'few', 'more', 'most', 'other', 'some', 'such', 'no', 'nor', 'not', 'only', 'own', 'same', 'so', 'than', 'too', 'very', 's', 't', 'can', 'will', 'just', 'don', \"don't\", 'should', \"should've\", 'now', 'd', 'll', 'm', 'o', 're', 've', 'y', 'ain', 'aren', \"aren't\", 'couldn', \"couldn't\", 'didn', \"didn't\", 'doesn', \"doesn't\", 'hadn', \"hadn't\", 'hasn', \"hasn't\", 'haven', \"haven't\", 'isn', \"isn't\", 'ma', 'mightn', \"mightn't\", 'mustn', \"mustn't\", 'needn', \"needn't\", 'shan', \"shan't\", 'shouldn', \"shouldn't\", 'wasn', \"wasn't\", 'weren', \"weren't\", 'won', \"won't\", 'wouldn', \"wouldn't\"]\n"
     ]
    }
   ],
   "source": [
    "print(stopwords.words('english'))"
   ]
  },
  {
   "cell_type": "code",
   "execution_count": 14,
   "id": "2d84068d",
   "metadata": {},
   "outputs": [],
   "source": [
    "from nltk.tokenize import word_tokenize"
   ]
  },
  {
   "cell_type": "code",
   "execution_count": 15,
   "id": "855df9b4",
   "metadata": {},
   "outputs": [],
   "source": [
    "text=\"Nick play football, however he is not too fond of tennis.\"\n",
    "text_tokens=word_tokenize(text)"
   ]
  },
  {
   "cell_type": "code",
   "execution_count": 16,
   "id": "d497d0bc",
   "metadata": {},
   "outputs": [],
   "source": [
    "tokens_without_sw=[word for word in text_tokens if not word in stopwords.words()]"
   ]
  },
  {
   "cell_type": "code",
   "execution_count": 17,
   "id": "74e9a3c3",
   "metadata": {},
   "outputs": [
    {
     "name": "stdout",
     "output_type": "stream",
     "text": [
      "['Nick', 'play', 'football', ',', 'however', 'fond', 'tennis', '.']\n"
     ]
    }
   ],
   "source": [
    "print(tokens_without_sw)"
   ]
  },
  {
   "cell_type": "code",
   "execution_count": 18,
   "id": "7619094e",
   "metadata": {},
   "outputs": [],
   "source": [
    "from nltk.stem import PorterStemmer"
   ]
  },
  {
   "cell_type": "code",
   "execution_count": 19,
   "id": "490b2640",
   "metadata": {},
   "outputs": [],
   "source": [
    "ps=PorterStemmer()"
   ]
  },
  {
   "cell_type": "code",
   "execution_count": 20,
   "id": "0c64fd90",
   "metadata": {},
   "outputs": [],
   "source": [
    "data=\"Programmers program with programming languages\"\n",
    "word=word_tokenize(data)"
   ]
  },
  {
   "cell_type": "code",
   "execution_count": 21,
   "id": "bb2b9a6b",
   "metadata": {},
   "outputs": [
    {
     "name": "stdout",
     "output_type": "stream",
     "text": [
      "Programmers : programm\n",
      "program : program\n",
      "with : with\n",
      "programming : program\n",
      "languages : languag\n"
     ]
    }
   ],
   "source": [
    "for w in word:\n",
    "    print(w,\":\",ps.stem(w))"
   ]
  },
  {
   "cell_type": "code",
   "execution_count": 22,
   "id": "beae7de2",
   "metadata": {},
   "outputs": [],
   "source": [
    "from nltk.stem import WordNetLemmatizer"
   ]
  },
  {
   "cell_type": "code",
   "execution_count": 23,
   "id": "de8c7077",
   "metadata": {},
   "outputs": [],
   "source": [
    "lem=WordNetLemmatizer()"
   ]
  },
  {
   "cell_type": "code",
   "execution_count": 24,
   "id": "8e0c1b19",
   "metadata": {},
   "outputs": [
    {
     "name": "stderr",
     "output_type": "stream",
     "text": [
      "[nltk_data] Downloading package wordnet to /Users/aashish/nltk_data...\n",
      "[nltk_data]   Package wordnet is already up-to-date!\n"
     ]
    },
    {
     "data": {
      "text/plain": [
       "True"
      ]
     },
     "execution_count": 24,
     "metadata": {},
     "output_type": "execute_result"
    }
   ],
   "source": [
    "nltk.download('wordnet')"
   ]
  },
  {
   "cell_type": "code",
   "execution_count": 25,
   "id": "238cf6d1",
   "metadata": {},
   "outputs": [
    {
     "name": "stdout",
     "output_type": "stream",
     "text": [
      "rocks:  rock\n",
      "corpora:  corpus\n",
      "better:  good\n"
     ]
    }
   ],
   "source": [
    "print(\"rocks: \",lem.lemmatize(\"rocks\"))\n",
    "print(\"corpora: \",lem.lemmatize(\"corpora\"))\n",
    "print(\"better: \",lem.lemmatize(\"better\",pos=\"a\"))"
   ]
  },
  {
   "cell_type": "code",
   "execution_count": 26,
   "id": "a4633553",
   "metadata": {},
   "outputs": [],
   "source": [
    "import pandas as pd\n",
    "import sklearn as sk\n",
    "import math"
   ]
  },
  {
   "cell_type": "code",
   "execution_count": 27,
   "id": "7418c601",
   "metadata": {},
   "outputs": [],
   "source": [
    "s1=\"Data Science is the most trending job of 21st century\"\n",
    "s2=\"Machine Learning is the key for Data Science\"\n",
    "string_s1=s1.split(\" \")"
   ]
  },
  {
   "cell_type": "code",
   "execution_count": 28,
   "id": "23f496be",
   "metadata": {},
   "outputs": [],
   "source": [
    "sen2=s2.split(\" \")"
   ]
  },
  {
   "cell_type": "code",
   "execution_count": 29,
   "id": "495b8ae7",
   "metadata": {},
   "outputs": [
    {
     "name": "stdout",
     "output_type": "stream",
     "text": [
      "{'Science', 'Data', 'century', 'trending', 'key', 'for', 'Machine', 'job', 'the', 'most', 'Learning', 'is', 'of', '21st'}\n"
     ]
    }
   ],
   "source": [
    "total=set(string_s1).union(set(sen2))\n",
    "print(total)"
   ]
  },
  {
   "cell_type": "code",
   "execution_count": 33,
   "id": "d6855000",
   "metadata": {},
   "outputs": [],
   "source": [
    "wordDictA=dict.fromkeys(total,0)\n",
    "wordDictB=dict.fromkeys(total,0)\n",
    "for word in string_s1:\n",
    "    wordDictA[word]+=1\n",
    "for word in sen2:\n",
    "    wordDictB[word]+=1"
   ]
  },
  {
   "cell_type": "code",
   "execution_count": 35,
   "id": "fbab4f11",
   "metadata": {},
   "outputs": [
    {
     "data": {
      "text/html": [
       "<div>\n",
       "<style scoped>\n",
       "    .dataframe tbody tr th:only-of-type {\n",
       "        vertical-align: middle;\n",
       "    }\n",
       "\n",
       "    .dataframe tbody tr th {\n",
       "        vertical-align: top;\n",
       "    }\n",
       "\n",
       "    .dataframe thead th {\n",
       "        text-align: right;\n",
       "    }\n",
       "</style>\n",
       "<table border=\"1\" class=\"dataframe\">\n",
       "  <thead>\n",
       "    <tr style=\"text-align: right;\">\n",
       "      <th></th>\n",
       "      <th>Science</th>\n",
       "      <th>Data</th>\n",
       "      <th>century</th>\n",
       "      <th>trending</th>\n",
       "      <th>key</th>\n",
       "      <th>for</th>\n",
       "      <th>Machine</th>\n",
       "      <th>job</th>\n",
       "      <th>the</th>\n",
       "      <th>most</th>\n",
       "      <th>Learning</th>\n",
       "      <th>is</th>\n",
       "      <th>of</th>\n",
       "      <th>21st</th>\n",
       "    </tr>\n",
       "  </thead>\n",
       "  <tbody>\n",
       "    <tr>\n",
       "      <th>0</th>\n",
       "      <td>1</td>\n",
       "      <td>1</td>\n",
       "      <td>1</td>\n",
       "      <td>1</td>\n",
       "      <td>0</td>\n",
       "      <td>0</td>\n",
       "      <td>0</td>\n",
       "      <td>1</td>\n",
       "      <td>1</td>\n",
       "      <td>1</td>\n",
       "      <td>0</td>\n",
       "      <td>1</td>\n",
       "      <td>1</td>\n",
       "      <td>1</td>\n",
       "    </tr>\n",
       "    <tr>\n",
       "      <th>1</th>\n",
       "      <td>1</td>\n",
       "      <td>1</td>\n",
       "      <td>0</td>\n",
       "      <td>0</td>\n",
       "      <td>1</td>\n",
       "      <td>1</td>\n",
       "      <td>1</td>\n",
       "      <td>0</td>\n",
       "      <td>1</td>\n",
       "      <td>0</td>\n",
       "      <td>1</td>\n",
       "      <td>1</td>\n",
       "      <td>0</td>\n",
       "      <td>0</td>\n",
       "    </tr>\n",
       "  </tbody>\n",
       "</table>\n",
       "</div>"
      ],
      "text/plain": [
       "   Science  Data  century  trending  key  for  Machine  job  the  most  \\\n",
       "0        1     1        1         1    0    0        0    1    1     1   \n",
       "1        1     1        0         0    1    1        1    0    1     0   \n",
       "\n",
       "   Learning  is  of  21st  \n",
       "0         0   1   1     1  \n",
       "1         1   1   0     0  "
      ]
     },
     "execution_count": 35,
     "metadata": {},
     "output_type": "execute_result"
    }
   ],
   "source": [
    "pd.DataFrame([wordDictA, wordDictB])"
   ]
  },
  {
   "cell_type": "code",
   "execution_count": 55,
   "id": "08ceb8e4",
   "metadata": {},
   "outputs": [
    {
     "data": {
      "text/html": [
       "<div>\n",
       "<style scoped>\n",
       "    .dataframe tbody tr th:only-of-type {\n",
       "        vertical-align: middle;\n",
       "    }\n",
       "\n",
       "    .dataframe tbody tr th {\n",
       "        vertical-align: top;\n",
       "    }\n",
       "\n",
       "    .dataframe thead th {\n",
       "        text-align: right;\n",
       "    }\n",
       "</style>\n",
       "<table border=\"1\" class=\"dataframe\">\n",
       "  <thead>\n",
       "    <tr style=\"text-align: right;\">\n",
       "      <th></th>\n",
       "      <th>Science</th>\n",
       "      <th>Data</th>\n",
       "      <th>century</th>\n",
       "      <th>trending</th>\n",
       "      <th>key</th>\n",
       "      <th>for</th>\n",
       "      <th>Machine</th>\n",
       "      <th>job</th>\n",
       "      <th>the</th>\n",
       "      <th>most</th>\n",
       "      <th>Learning</th>\n",
       "      <th>is</th>\n",
       "      <th>of</th>\n",
       "      <th>21st</th>\n",
       "    </tr>\n",
       "  </thead>\n",
       "  <tbody>\n",
       "    <tr>\n",
       "      <th>0</th>\n",
       "      <td>0.100</td>\n",
       "      <td>0.100</td>\n",
       "      <td>0.1</td>\n",
       "      <td>0.1</td>\n",
       "      <td>0.000</td>\n",
       "      <td>0.000</td>\n",
       "      <td>0.000</td>\n",
       "      <td>0.1</td>\n",
       "      <td>0.100</td>\n",
       "      <td>0.1</td>\n",
       "      <td>0.000</td>\n",
       "      <td>0.100</td>\n",
       "      <td>0.1</td>\n",
       "      <td>0.1</td>\n",
       "    </tr>\n",
       "    <tr>\n",
       "      <th>1</th>\n",
       "      <td>0.125</td>\n",
       "      <td>0.125</td>\n",
       "      <td>0.0</td>\n",
       "      <td>0.0</td>\n",
       "      <td>0.125</td>\n",
       "      <td>0.125</td>\n",
       "      <td>0.125</td>\n",
       "      <td>0.0</td>\n",
       "      <td>0.125</td>\n",
       "      <td>0.0</td>\n",
       "      <td>0.125</td>\n",
       "      <td>0.125</td>\n",
       "      <td>0.0</td>\n",
       "      <td>0.0</td>\n",
       "    </tr>\n",
       "  </tbody>\n",
       "</table>\n",
       "</div>"
      ],
      "text/plain": [
       "   Science   Data  century  trending    key    for  Machine  job    the  most  \\\n",
       "0    0.100  0.100      0.1       0.1  0.000  0.000    0.000  0.1  0.100   0.1   \n",
       "1    0.125  0.125      0.0       0.0  0.125  0.125    0.125  0.0  0.125   0.0   \n",
       "\n",
       "   Learning     is   of  21st  \n",
       "0     0.000  0.100  0.1   0.1  \n",
       "1     0.125  0.125  0.0   0.0  "
      ]
     },
     "execution_count": 55,
     "metadata": {},
     "output_type": "execute_result"
    }
   ],
   "source": [
    "def computeTF(wordDict,doc):\n",
    "    tfDict={}\n",
    "    corpusCount=len(doc)\n",
    "    for word, count in wordDict.items():\n",
    "        tfDict[word]=count/float(corpusCount)\n",
    "    return(tfDict)\n",
    "tfFirst=computeTF(wordDictA, string_s1)\n",
    "tfSecond=computeTF(wordDictB,sen2)\n",
    "tf=pd.DataFrame([tfFirst, tfSecond])\n",
    "tf"
   ]
  },
  {
   "cell_type": "code",
   "execution_count": 58,
   "id": "18bde5c4",
   "metadata": {},
   "outputs": [
    {
     "data": {
      "text/plain": [
       "{'Science': 0.3010299956639812,\n",
       " 'Data': 0.3010299956639812,\n",
       " 'century': 0.3010299956639812,\n",
       " 'trending': 0.3010299956639812,\n",
       " 'key': 0.3010299956639812,\n",
       " 'for': 0.3010299956639812,\n",
       " 'Machine': 0.3010299956639812,\n",
       " 'job': 0.3010299956639812,\n",
       " 'the': 0.3010299956639812,\n",
       " 'most': 0.3010299956639812,\n",
       " 'Learning': 0.3010299956639812,\n",
       " 'is': 0.3010299956639812,\n",
       " 'of': 0.3010299956639812,\n",
       " '21st': 0.3010299956639812}"
      ]
     },
     "execution_count": 58,
     "metadata": {},
     "output_type": "execute_result"
    }
   ],
   "source": [
    "def computeIDF(docList):\n",
    "    idfDict={}\n",
    "    N=len(docList)\n",
    "    \n",
    "    idfDict=dict.fromkeys(docList[0].keys(),0)\n",
    "    for word, val in idfDict.items():\n",
    "        idfDict[word]=math.log10(N/(float(val)+1))\n",
    "    return(idfDict)\n",
    "idfs=computeIDF([wordDictA,wordDictB])\n",
    "idfs"
   ]
  },
  {
   "cell_type": "code",
   "execution_count": 61,
   "id": "3026376b",
   "metadata": {},
   "outputs": [
    {
     "data": {
      "text/html": [
       "<div>\n",
       "<style scoped>\n",
       "    .dataframe tbody tr th:only-of-type {\n",
       "        vertical-align: middle;\n",
       "    }\n",
       "\n",
       "    .dataframe tbody tr th {\n",
       "        vertical-align: top;\n",
       "    }\n",
       "\n",
       "    .dataframe thead th {\n",
       "        text-align: right;\n",
       "    }\n",
       "</style>\n",
       "<table border=\"1\" class=\"dataframe\">\n",
       "  <thead>\n",
       "    <tr style=\"text-align: right;\">\n",
       "      <th></th>\n",
       "      <th>Science</th>\n",
       "      <th>Data</th>\n",
       "      <th>century</th>\n",
       "      <th>trending</th>\n",
       "      <th>key</th>\n",
       "      <th>for</th>\n",
       "      <th>Machine</th>\n",
       "      <th>job</th>\n",
       "      <th>the</th>\n",
       "      <th>most</th>\n",
       "      <th>Learning</th>\n",
       "      <th>is</th>\n",
       "      <th>of</th>\n",
       "      <th>21st</th>\n",
       "    </tr>\n",
       "  </thead>\n",
       "  <tbody>\n",
       "    <tr>\n",
       "      <th>0</th>\n",
       "      <td>0.030103</td>\n",
       "      <td>0.030103</td>\n",
       "      <td>0.030103</td>\n",
       "      <td>0.030103</td>\n",
       "      <td>0.000000</td>\n",
       "      <td>0.000000</td>\n",
       "      <td>0.000000</td>\n",
       "      <td>0.030103</td>\n",
       "      <td>0.030103</td>\n",
       "      <td>0.030103</td>\n",
       "      <td>0.000000</td>\n",
       "      <td>0.030103</td>\n",
       "      <td>0.030103</td>\n",
       "      <td>0.030103</td>\n",
       "    </tr>\n",
       "    <tr>\n",
       "      <th>1</th>\n",
       "      <td>0.037629</td>\n",
       "      <td>0.037629</td>\n",
       "      <td>0.000000</td>\n",
       "      <td>0.000000</td>\n",
       "      <td>0.037629</td>\n",
       "      <td>0.037629</td>\n",
       "      <td>0.037629</td>\n",
       "      <td>0.000000</td>\n",
       "      <td>0.037629</td>\n",
       "      <td>0.000000</td>\n",
       "      <td>0.037629</td>\n",
       "      <td>0.037629</td>\n",
       "      <td>0.000000</td>\n",
       "      <td>0.000000</td>\n",
       "    </tr>\n",
       "  </tbody>\n",
       "</table>\n",
       "</div>"
      ],
      "text/plain": [
       "    Science      Data   century  trending       key       for   Machine  \\\n",
       "0  0.030103  0.030103  0.030103  0.030103  0.000000  0.000000  0.000000   \n",
       "1  0.037629  0.037629  0.000000  0.000000  0.037629  0.037629  0.037629   \n",
       "\n",
       "        job       the      most  Learning        is        of      21st  \n",
       "0  0.030103  0.030103  0.030103  0.000000  0.030103  0.030103  0.030103  \n",
       "1  0.000000  0.037629  0.000000  0.037629  0.037629  0.000000  0.000000  "
      ]
     },
     "execution_count": 61,
     "metadata": {},
     "output_type": "execute_result"
    }
   ],
   "source": [
    "def computeTFIDF(tfBow, idfs):\n",
    "    tfidf={}\n",
    "    for word, val in tfBow.items():\n",
    "        tfidf[word]=val*idfs[word]\n",
    "    return(tfidf)\n",
    "idfFirst=computeTFIDF(tfFirst,idfs)\n",
    "idfSecond=computeTFIDF(tfSecond, idfs)\n",
    "idf=pd.DataFrame([idfFirst, idfSecond])\n",
    "idf"
   ]
  },
  {
   "cell_type": "code",
   "execution_count": null,
   "id": "4673c4b3",
   "metadata": {},
   "outputs": [],
   "source": []
  }
 ],
 "metadata": {
  "kernelspec": {
   "display_name": "Python 3 (ipykernel)",
   "language": "python",
   "name": "python3"
  },
  "language_info": {
   "codemirror_mode": {
    "name": "ipython",
    "version": 3
   },
   "file_extension": ".py",
   "mimetype": "text/x-python",
   "name": "python",
   "nbconvert_exporter": "python",
   "pygments_lexer": "ipython3",
   "version": "3.9.7"
  }
 },
 "nbformat": 4,
 "nbformat_minor": 5
}
